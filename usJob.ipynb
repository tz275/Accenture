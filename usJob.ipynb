{
 "cells": [
  {
   "cell_type": "code",
   "execution_count": 18,
   "metadata": {},
   "outputs": [],
   "source": [
    "from selenium import webdriver\n",
    "import time\n",
    "from selenium.webdriver.common.by import By\n",
    "import re\n",
    "import random\n",
    "import json\n",
    "from selenium.webdriver.chrome.service import Service\n",
    "from datetime import date, timedelta"
   ]
  },
  {
   "cell_type": "code",
   "execution_count": 3,
   "metadata": {},
   "outputs": [
    {
     "name": "stderr",
     "output_type": "stream",
     "text": [
      "/var/folders/yh/d_jgns49545bkkpm4rst2c_80000gn/T/ipykernel_40031/2973166268.py:2: DeprecationWarning: executable_path has been deprecated, please pass in a Service object\n",
      "  wd = webdriver.Chrome(r'/Users/tingkangzhao/SeleniumDriver/chromedriver')\n"
     ]
    }
   ],
   "source": [
    "# https://chromedriver.chromium.org/downloads\n",
    "wd = webdriver.Chrome(r'/Users/tingkangzhao/SeleniumDriver/chromedriver')\n",
    "wd.implicitly_wait(10)"
   ]
  },
  {
   "cell_type": "code",
   "execution_count": 7,
   "metadata": {},
   "outputs": [],
   "source": [
    "# software, machine learning, technology, data, engineer\n",
    "url = \"https://www.accenture.com/us-en/careers/jobsearch?jk=&sb=1&vw=0&is_rj=0&pg=1\"\n",
    "wd.get(url)"
   ]
  },
  {
   "cell_type": "code",
   "execution_count": null,
   "metadata": {},
   "outputs": [],
   "source": [
    "def getAllPostedAndJobUrl(wd):\n",
    "    ret = []\n",
    "    today = date.today()\n",
    "    for i in wd.find_elements(By.CSS_SELECTOR, \".cmp-teaser__title-link\"):\n",
    "        if i.get_attribute(\"data-href\"):\n",
    "            posted = i.find_element(By.CSS_SELECTOR, \".cmp-teaser__job-listing.cmp-teaser__job-listing-posted-date\").text\n",
    "            job_url = i.get_attribute(\"data-href\")\n",
    "            passed_number = re.search(r'\\d+', posted)\n",
    "            if passed_number:\n",
    "                posted_number = int(passed_number.group())\n",
    "            else:\n",
    "                continue\n",
    "            is_day = re.search(r'day', posted)\n",
    "            if is_day:\n",
    "                posted = today - timedelta(days = posted_number)\n",
    "                posted = posted.strftime(\"%Y-%m-%d\")\n",
    "                ret.append([posted, job_url])\n",
    "                continue\n",
    "            is_month = re.search(r'monthy', posted)\n",
    "            if is_month:\n",
    "                posted = today - timedelta(days = posted_number * 30)\n",
    "                posted = posted.strftime(\"%Y-%m-%d\")\n",
    "                ret.append([posted, job_url])\n",
    "    return ret"
   ]
  },
  {
   "cell_type": "code",
   "execution_count": 53,
   "metadata": {},
   "outputs": [],
   "source": [
    "def saveFile(file, index):\n",
    "    with open(f\"apple{index}.json\", 'w') as f:\n",
    "        json.dump(file, f)"
   ]
  },
  {
   "cell_type": "code",
   "execution_count": 92,
   "metadata": {},
   "outputs": [
    {
     "data": {
      "text/plain": [
       "'banchelors'"
      ]
     },
     "execution_count": 92,
     "metadata": {},
     "output_type": "execute_result"
    }
   ],
   "source": [
    "import requests\n",
    "from bs4 import BeautifulSoup\n",
    "session = requests.Session()\n",
    "headers = {\n",
    "        'User-Agent' : 'Mozilla/5.0 (X11; Ubuntu; Linux x86_64; rv:46.0) Gecko/20100101 Firefox/46.0',\n",
    "        'Content-Type': 'application/x-www-form-urlencoded',\n",
    "        'Connection' : 'Keep-Alive',\n",
    "        'Accept':'text/html,application/xhtml+xml,application/xml;q=0.9,*/*;q=0.8'\n",
    "}\n",
    "\n",
    "\n",
    "url_obj = session.get(\"https://www.accenture.com/us-en/careers/jobdetails?id=R00152743_en&title=Federal+-+Procurement+Specialist+-+REMOTE\", headers = headers)\n",
    "bs = BeautifulSoup(url_obj.text, \"html.parser\")\n",
    "jobTitle = bs.find('div', {\"class\": \"cmp-job-listing-hero__title-container\"}).text\n",
    "jobId = [i for i in bs.find('div', {\"class\": \"cmp-job-listing-hero__labels-container\"}).text.split('\\n') if i][-1]\n",
    "jobLocation = bs.find_all('div', {'class': 'description-content'})[-1].text.lstrip()\n",
    "jobDescription = bs.find('div', {'class': \"cmp-job-listing-details__desc-block\"})\n",
    "remote = False\n",
    "for i in jobDescription.text.split(' '):\n",
    "    if re.search(r'remote', i, re.IGNORECASE):\n",
    "        remote = True\n",
    "requirements = bs.find_all('div', {'class': \"description-content\"})[1].text.lstrip()\n",
    "\n",
    "\n"
   ]
  },
  {
   "cell_type": "code",
   "execution_count": 109,
   "metadata": {},
   "outputs": [
    {
     "ename": "ElementClickInterceptedException",
     "evalue": "Message: element click intercepted: Element <div class=\"cmp-pagination__link-text\">...</div> is not clickable at point (832, 793). Other element would receive the click: <div class=\"ot-sdk-row\">...</div>\n  (Session info: chrome=112.0.5615.49)\nStacktrace:\n0   chromedriver                        0x0000000104a6ad3c chromedriver + 4222268\n1   chromedriver                        0x00000001049f18e8 chromedriver + 3725544\n2   chromedriver                        0x00000001046a7da4 chromedriver + 277924\n3   chromedriver                        0x00000001046eaa78 chromedriver + 551544\n4   chromedriver                        0x00000001046e84c0 chromedriver + 541888\n5   chromedriver                        0x00000001046e5c80 chromedriver + 531584\n6   chromedriver                        0x00000001046e4b78 chromedriver + 527224\n7   chromedriver                        0x00000001046d79cc chromedriver + 473548\n8   chromedriver                        0x00000001046d71b0 chromedriver + 471472\n9   chromedriver                        0x000000010471b618 chromedriver + 751128\n10  chromedriver                        0x00000001046d58f0 chromedriver + 465136\n11  chromedriver                        0x00000001046d6974 chromedriver + 469364\n12  chromedriver                        0x0000000104a3b788 chromedriver + 4028296\n13  chromedriver                        0x0000000104a3fc1c chromedriver + 4045852\n14  chromedriver                        0x0000000104a45c98 chromedriver + 4070552\n15  chromedriver                        0x0000000104a408d8 chromedriver + 4049112\n16  chromedriver                        0x0000000104a17d84 chromedriver + 3882372\n17  chromedriver                        0x0000000104a5e720 chromedriver + 4171552\n18  chromedriver                        0x0000000104a5e878 chromedriver + 4171896\n19  chromedriver                        0x0000000104a72014 chromedriver + 4251668\n20  libsystem_pthread.dylib             0x0000000193d4e06c _pthread_start + 148\n21  libsystem_pthread.dylib             0x0000000193d48e2c thread_start + 8\n",
     "output_type": "error",
     "traceback": [
      "\u001b[0;31m---------------------------------------------------------------------------\u001b[0m",
      "\u001b[0;31mElementClickInterceptedException\u001b[0m          Traceback (most recent call last)",
      "\u001b[1;32m/Users/tingkangzhao/Desktop/工作/Astoria_AI/Accenture/usJob.ipynb Cell 7\u001b[0m in \u001b[0;36m<cell line: 8>\u001b[0;34m()\u001b[0m\n\u001b[1;32m      <a href='vscode-notebook-cell:/Users/tingkangzhao/Desktop/%E5%B7%A5%E4%BD%9C/Astoria_AI/Accenture/usJob.ipynb#X21sZmlsZQ%3D%3D?line=4'>5</a>\u001b[0m next_button \u001b[39m=\u001b[39m WebDriverWait(wd, \u001b[39m10\u001b[39m)\u001b[39m.\u001b[39muntil(EC\u001b[39m.\u001b[39melement_to_be_clickable((By\u001b[39m.\u001b[39mCSS_SELECTOR, \u001b[39m\"\u001b[39m\u001b[39m#jobsearchpagination-ce8ce45195 > div > div > div:nth-child(4) > a > div.cmp-pagination__link-text\u001b[39m\u001b[39m\"\u001b[39m)))\n\u001b[1;32m      <a href='vscode-notebook-cell:/Users/tingkangzhao/Desktop/%E5%B7%A5%E4%BD%9C/Astoria_AI/Accenture/usJob.ipynb#X21sZmlsZQ%3D%3D?line=6'>7</a>\u001b[0m \u001b[39m# Click the next page button\u001b[39;00m\n\u001b[0;32m----> <a href='vscode-notebook-cell:/Users/tingkangzhao/Desktop/%E5%B7%A5%E4%BD%9C/Astoria_AI/Accenture/usJob.ipynb#X21sZmlsZQ%3D%3D?line=7'>8</a>\u001b[0m next_button\u001b[39m.\u001b[39;49mclick()\n",
      "File \u001b[0;32m/opt/anaconda3/lib/python3.8/site-packages/selenium/webdriver/remote/webelement.py:80\u001b[0m, in \u001b[0;36mWebElement.click\u001b[0;34m(self)\u001b[0m\n\u001b[1;32m     78\u001b[0m \u001b[39mdef\u001b[39;00m \u001b[39mclick\u001b[39m(\u001b[39mself\u001b[39m) \u001b[39m-\u001b[39m\u001b[39m>\u001b[39m \u001b[39mNone\u001b[39;00m:\n\u001b[1;32m     79\u001b[0m \u001b[39m    \u001b[39m\u001b[39m\"\"\"Clicks the element.\"\"\"\u001b[39;00m\n\u001b[0;32m---> 80\u001b[0m     \u001b[39mself\u001b[39;49m\u001b[39m.\u001b[39;49m_execute(Command\u001b[39m.\u001b[39;49mCLICK_ELEMENT)\n",
      "File \u001b[0;32m/opt/anaconda3/lib/python3.8/site-packages/selenium/webdriver/remote/webelement.py:693\u001b[0m, in \u001b[0;36mWebElement._execute\u001b[0;34m(self, command, params)\u001b[0m\n\u001b[1;32m    691\u001b[0m     params \u001b[39m=\u001b[39m {}\n\u001b[1;32m    692\u001b[0m params[\u001b[39m'\u001b[39m\u001b[39mid\u001b[39m\u001b[39m'\u001b[39m] \u001b[39m=\u001b[39m \u001b[39mself\u001b[39m\u001b[39m.\u001b[39m_id\n\u001b[0;32m--> 693\u001b[0m \u001b[39mreturn\u001b[39;00m \u001b[39mself\u001b[39;49m\u001b[39m.\u001b[39;49m_parent\u001b[39m.\u001b[39;49mexecute(command, params)\n",
      "File \u001b[0;32m/opt/anaconda3/lib/python3.8/site-packages/selenium/webdriver/remote/webdriver.py:418\u001b[0m, in \u001b[0;36mWebDriver.execute\u001b[0;34m(self, driver_command, params)\u001b[0m\n\u001b[1;32m    416\u001b[0m response \u001b[39m=\u001b[39m \u001b[39mself\u001b[39m\u001b[39m.\u001b[39mcommand_executor\u001b[39m.\u001b[39mexecute(driver_command, params)\n\u001b[1;32m    417\u001b[0m \u001b[39mif\u001b[39;00m response:\n\u001b[0;32m--> 418\u001b[0m     \u001b[39mself\u001b[39;49m\u001b[39m.\u001b[39;49merror_handler\u001b[39m.\u001b[39;49mcheck_response(response)\n\u001b[1;32m    419\u001b[0m     response[\u001b[39m'\u001b[39m\u001b[39mvalue\u001b[39m\u001b[39m'\u001b[39m] \u001b[39m=\u001b[39m \u001b[39mself\u001b[39m\u001b[39m.\u001b[39m_unwrap_value(\n\u001b[1;32m    420\u001b[0m         response\u001b[39m.\u001b[39mget(\u001b[39m'\u001b[39m\u001b[39mvalue\u001b[39m\u001b[39m'\u001b[39m, \u001b[39mNone\u001b[39;00m))\n\u001b[1;32m    421\u001b[0m     \u001b[39mreturn\u001b[39;00m response\n",
      "File \u001b[0;32m/opt/anaconda3/lib/python3.8/site-packages/selenium/webdriver/remote/errorhandler.py:243\u001b[0m, in \u001b[0;36mErrorHandler.check_response\u001b[0;34m(self, response)\u001b[0m\n\u001b[1;32m    241\u001b[0m         alert_text \u001b[39m=\u001b[39m value[\u001b[39m'\u001b[39m\u001b[39malert\u001b[39m\u001b[39m'\u001b[39m]\u001b[39m.\u001b[39mget(\u001b[39m'\u001b[39m\u001b[39mtext\u001b[39m\u001b[39m'\u001b[39m)\n\u001b[1;32m    242\u001b[0m     \u001b[39mraise\u001b[39;00m exception_class(message, screen, stacktrace, alert_text)  \u001b[39m# type: ignore[call-arg]  # mypy is not smart enough here\u001b[39;00m\n\u001b[0;32m--> 243\u001b[0m \u001b[39mraise\u001b[39;00m exception_class(message, screen, stacktrace)\n",
      "\u001b[0;31mElementClickInterceptedException\u001b[0m: Message: element click intercepted: Element <div class=\"cmp-pagination__link-text\">...</div> is not clickable at point (832, 793). Other element would receive the click: <div class=\"ot-sdk-row\">...</div>\n  (Session info: chrome=112.0.5615.49)\nStacktrace:\n0   chromedriver                        0x0000000104a6ad3c chromedriver + 4222268\n1   chromedriver                        0x00000001049f18e8 chromedriver + 3725544\n2   chromedriver                        0x00000001046a7da4 chromedriver + 277924\n3   chromedriver                        0x00000001046eaa78 chromedriver + 551544\n4   chromedriver                        0x00000001046e84c0 chromedriver + 541888\n5   chromedriver                        0x00000001046e5c80 chromedriver + 531584\n6   chromedriver                        0x00000001046e4b78 chromedriver + 527224\n7   chromedriver                        0x00000001046d79cc chromedriver + 473548\n8   chromedriver                        0x00000001046d71b0 chromedriver + 471472\n9   chromedriver                        0x000000010471b618 chromedriver + 751128\n10  chromedriver                        0x00000001046d58f0 chromedriver + 465136\n11  chromedriver                        0x00000001046d6974 chromedriver + 469364\n12  chromedriver                        0x0000000104a3b788 chromedriver + 4028296\n13  chromedriver                        0x0000000104a3fc1c chromedriver + 4045852\n14  chromedriver                        0x0000000104a45c98 chromedriver + 4070552\n15  chromedriver                        0x0000000104a408d8 chromedriver + 4049112\n16  chromedriver                        0x0000000104a17d84 chromedriver + 3882372\n17  chromedriver                        0x0000000104a5e720 chromedriver + 4171552\n18  chromedriver                        0x0000000104a5e878 chromedriver + 4171896\n19  chromedriver                        0x0000000104a72014 chromedriver + 4251668\n20  libsystem_pthread.dylib             0x0000000193d4e06c _pthread_start + 148\n21  libsystem_pthread.dylib             0x0000000193d48e2c thread_start + 8\n"
     ]
    }
   ],
   "source": [
    "from selenium.webdriver.common.by import By\n",
    "from selenium.webdriver.support.ui import WebDriverWait\n",
    "from selenium.webdriver.support import expected_conditions as EC\n",
    "\n",
    "next_button = WebDriverWait(wd, 10).until(EC.element_to_be_clickable((By.CSS_SELECTOR, \"#jobsearchpagination-ce8ce45195 > div > div > div:nth-child(4) > a > div.cmp-pagination__link-text\")))\n",
    "\n",
    "# Click the next page button\n",
    "next_button.click()"
   ]
  },
  {
   "cell_type": "code",
   "execution_count": 57,
   "metadata": {},
   "outputs": [],
   "source": [
    "# get all the job urls\n",
    "count = 0\n",
    "file_index = 0\n",
    "jobs_dic = {}\n",
    "while True:\n",
    "    for i in wd.find_elements(By.CSS_SELECTOR, \"tbody\"):  \n",
    "        job_dic = {}\n",
    "        title = i.find_element(By.CSS_SELECTOR, '.table-col-1>a').text\n",
    "        href = i.find_element(By.CSS_SELECTOR, '.table-col-1>a').get_attribute(\"href\")\n",
    "        location = i.find_element(By.CSS_SELECTOR, \".table-col-2\").text\n",
    "        id = i.find_element(By.CSS_SELECTOR, '.table-col-1>a').get_attribute(\"id\")\n",
    "        id = getNumbers(id)\n",
    "        job_dic[\"jobID\"] = id\n",
    "        job_dic[\"jobTitle\"] = title\n",
    "        job_dic[\"link\"] = href\n",
    "        job_dic[\"jobLocation\"] = {\"remote\": \"not specified\", \"city\": location, \"state\": None, \"country\": \"US\"}\n",
    "        jobs_dic[id] = job_dic\n",
    "        count += 1\n",
    "\n",
    "    if count >= 100:\n",
    "        count = 0\n",
    "        file_index += 1\n",
    "        saveFile(jobs_dic, file_index)\n",
    "        jobs_dic = {}\n",
    "\n",
    "    time.sleep(random.randint(5, 13))\n",
    "    try:\n",
    "      nextPage()\n",
    "    except:\n",
    "        break"
   ]
  }
 ],
 "metadata": {
  "kernelspec": {
   "display_name": "Python 3 (ipykernel)",
   "language": "python",
   "name": "python3"
  },
  "language_info": {
   "codemirror_mode": {
    "name": "ipython",
    "version": 3
   },
   "file_extension": ".py",
   "mimetype": "text/x-python",
   "name": "python",
   "nbconvert_exporter": "python",
   "pygments_lexer": "ipython3",
   "version": "3.8.2"
  },
  "toc": {
   "base_numbering": 1,
   "nav_menu": {},
   "number_sections": true,
   "sideBar": true,
   "skip_h1_title": false,
   "title_cell": "Table of Contents",
   "title_sidebar": "Contents",
   "toc_cell": false,
   "toc_position": {},
   "toc_section_display": true,
   "toc_window_display": false
  },
  "vscode": {
   "interpreter": {
    "hash": "40d3a090f54c6569ab1632332b64b2c03c39dcf918b08424e98f38b5ae0af88f"
   }
  }
 },
 "nbformat": 4,
 "nbformat_minor": 2
}
